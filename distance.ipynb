{
 "cells": [
  {
   "cell_type": "code",
   "execution_count": 1,
   "metadata": {
    "ExecuteTime": {
     "end_time": "2020-12-13T01:39:15.348233Z",
     "start_time": "2020-12-13T01:39:15.344237Z"
    }
   },
   "outputs": [],
   "source": [
    "apikey = '5737e060-0f84-4251-902f-0716332388f1'  # ваш ключ"
   ]
  },
  {
   "cell_type": "code",
   "execution_count": null,
   "metadata": {},
   "outputs": [],
   "source": []
  },
  {
   "cell_type": "code",
   "execution_count": 2,
   "metadata": {
    "ExecuteTime": {
     "end_time": "2020-12-13T01:39:16.232822Z",
     "start_time": "2020-12-13T01:39:16.033555Z"
    }
   },
   "outputs": [],
   "source": [
    "import requests\n",
    "from geopy.distance import geodesic\n",
    "\n",
    "def fetch_coordinates(apikey, place):\n",
    "    base_url = \"https://geocode-maps.yandex.ru/1.x\"\n",
    "    params = {\"geocode\": place, \"apikey\": apikey, \"format\": \"json\"}\n",
    "    response = requests.get(base_url, params=params)\n",
    "    response.raise_for_status()\n",
    "    places_found = response.json()['response']['GeoObjectCollection']['featureMember']\n",
    "    most_relevant = places_found[0]\n",
    "    lon, lat = most_relevant['GeoObject']['Point']['pos'].split(\" \")\n",
    "    return lon, lat"
   ]
  },
  {
   "cell_type": "code",
   "execution_count": null,
   "metadata": {},
   "outputs": [],
   "source": []
  }
 ],
 "metadata": {
  "kernelspec": {
   "display_name": "Python 3",
   "language": "python",
   "name": "python3"
  },
  "language_info": {
   "codemirror_mode": {
    "name": "ipython",
    "version": 3
   },
   "file_extension": ".py",
   "mimetype": "text/x-python",
   "name": "python",
   "nbconvert_exporter": "python",
   "pygments_lexer": "ipython3",
   "version": "3.8.3"
  }
 },
 "nbformat": 4,
 "nbformat_minor": 4
}

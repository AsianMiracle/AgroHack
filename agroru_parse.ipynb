{
 "cells": [
  {
   "cell_type": "code",
   "execution_count": 1,
   "metadata": {
    "ExecuteTime": {
     "end_time": "2020-12-12T10:12:05.584864Z",
     "start_time": "2020-12-12T10:12:05.423656Z"
    }
   },
   "outputs": [],
   "source": [
    "import requests\n",
    "from bs4 import BeautifulSoup\n",
    "HEADERS = {'user-agent': 'Mozilla/5.0 (Windows NT 10.0; Win64; x64) AppleWebKit/537.36 (KHTML, like Gecko) Chrome/85.0.4183.121 Safari/537.36', \n",
    "           'accept': 'text/html,application/xhtml+xml,application/xml;q=0.9,image/avif,image/webp,image/apng,*/*;q=0.8,application/signed-exchange;v=b3;q=0.9'}"
   ]
  },
  {
   "cell_type": "code",
   "execution_count": 63,
   "metadata": {
    "ExecuteTime": {
     "end_time": "2020-12-12T17:34:39.842305Z",
     "start_time": "2020-12-12T17:34:39.121517Z"
    }
   },
   "outputs": [],
   "source": [
    "from lxml import html\n",
    "import requests\n",
    "import re\n",
    "import pandas as pd"
   ]
  },
  {
   "cell_type": "code",
   "execution_count": 54,
   "metadata": {
    "ExecuteTime": {
     "end_time": "2020-12-12T17:16:12.196273Z",
     "start_time": "2020-12-12T17:16:12.193267Z"
    }
   },
   "outputs": [],
   "source": [
    "url = 'https://agroru.com/doska/udobreniya/'\n",
    "HOST = 'https://agroru.com'"
   ]
  },
  {
   "cell_type": "code",
   "execution_count": 110,
   "metadata": {
    "ExecuteTime": {
     "end_time": "2020-12-12T18:38:19.344707Z",
     "start_time": "2020-12-12T18:34:26.242722Z"
    }
   },
   "outputs": [],
   "source": [
    "prods_url_list = []\n",
    "\n",
    "for i in range(1, 72):\n",
    "    url = f'https://agroru.com/doska/udobreniya/ct-0-p{i}.htm'\n",
    "\n",
    "    q = requests.get(url)\n",
    "    result = q.content\n",
    "    tree = html.fromstring(q.content)\n",
    "\n",
    "    soup = BeautifulSoup(result, 'lxml')\n",
    "    prods = soup.find_all(class_='dl_item')\n",
    "\n",
    "    for prod in prods:\n",
    "        prod_page_url = HOST + prod.find('div', class_='dl_t_desc').find('div', class_='dl_t_hdr').find('a').get('href')\n",
    "        prod_title = prod.find('div', class_='dl_t_desc').find('div', class_='dl_t_hdr').find('a').get('title')\n",
    "        prod_location = prod.find('div', class_='dl_t_desc').find('div', class_='dl_t_text').find('div', class_='dl_shop_r').get_text(strip=True).replace('Местоположение товара:', '')\n",
    "        prod_price = str(prod.find('div', class_='dl_shop').find('div', class_='dl_t_price_new')).replace('<div class=\"dl_t_price_new\">\\n\\t\\t\\t\\t\\t\\t', '').replace('р.\\t\\t\\t\\t\\t\\t\\t\\t\\t\\t\\t\\t\\t<br/><span class=\"dl_t_edizm\">', '').replace('</span>\\n</div>', '')\n",
    "        price = prod_price.split(' за')[0]\n",
    "        izmer = prod_price.replace(price+' ', '')\n",
    "        prod_seller = prod.find('div', class_='dl_shop').find('div', class_='dl_contacts').get_text(strip=True).replace('Продавец', '').replace('- частник', '')\n",
    "        try:\n",
    "            seller_info = HOST + prod.find('div', class_='dl_shop').find('div', class_='dl_contacts').find('a').get('href')\n",
    "        except AttributeError:\n",
    "            seller_info = HOST + prod.find('div', class_='dl_shop').find('div', class_='dl_shop_m').find('a').get('href')\n",
    "        \n",
    "        try:\n",
    "            date = prod.find('div', class_='dl_t_desc').find('div', class_='dl_t_text').find('div', class_='dl_date').get_text(strip=True).replace('-', '.')\n",
    "        except AttributeError:\n",
    "            date = tree.xpath('/html/body/div[1]/div[2]/div/div[5]/div[2]/div[29]/div[3]/div[2]/div[4]/text()')\n",
    "        prods_url_list.append({'title': prod_title, 'price': price.replace(' ', ''), 'izmer': izmer, 'location': prod_location, 'seller': prod_seller, 'seller_link': seller_info, 'date': date, 'link': prod_page_url})\n",
    "\n",
    "\n"
   ]
  },
  {
   "cell_type": "code",
   "execution_count": 111,
   "metadata": {
    "ExecuteTime": {
     "end_time": "2020-12-12T18:38:26.171962Z",
     "start_time": "2020-12-12T18:38:26.144901Z"
    }
   },
   "outputs": [],
   "source": [
    "with open('prods_list.txt', 'a') as file:\n",
    "    for line in prods_url_list:\n",
    "        file.write(f'{line}\\n')"
   ]
  },
  {
   "cell_type": "code",
   "execution_count": 112,
   "metadata": {
    "ExecuteTime": {
     "end_time": "2020-12-12T18:39:44.656713Z",
     "start_time": "2020-12-12T18:39:44.647737Z"
    }
   },
   "outputs": [],
   "source": [
    "dataset = pd.DataFrame(prods_url_list)"
   ]
  },
  {
   "cell_type": "code",
   "execution_count": 113,
   "metadata": {
    "ExecuteTime": {
     "end_time": "2020-12-12T18:39:47.436164Z",
     "start_time": "2020-12-12T18:39:47.422201Z"
    },
    "scrolled": true
   },
   "outputs": [
    {
     "data": {
      "text/html": [
       "<div>\n",
       "<style scoped>\n",
       "    .dataframe tbody tr th:only-of-type {\n",
       "        vertical-align: middle;\n",
       "    }\n",
       "\n",
       "    .dataframe tbody tr th {\n",
       "        vertical-align: top;\n",
       "    }\n",
       "\n",
       "    .dataframe thead th {\n",
       "        text-align: right;\n",
       "    }\n",
       "</style>\n",
       "<table border=\"1\" class=\"dataframe\">\n",
       "  <thead>\n",
       "    <tr style=\"text-align: right;\">\n",
       "      <th></th>\n",
       "      <th>title</th>\n",
       "      <th>price</th>\n",
       "      <th>izmer</th>\n",
       "      <th>location</th>\n",
       "      <th>seller</th>\n",
       "      <th>seller_link</th>\n",
       "      <th>date</th>\n",
       "      <th>link</th>\n",
       "    </tr>\n",
       "  </thead>\n",
       "  <tbody>\n",
       "    <tr>\n",
       "      <th>0</th>\n",
       "      <td>Известь негашеная ГОСТ</td>\n",
       "      <td>4800.00</td>\n",
       "      <td>за Тонну</td>\n",
       "      <td>Р-ка Башкортостан,  Уфа</td>\n",
       "      <td>Урал Робертович Гиниятуллин</td>\n",
       "      <td>https://agroru.com/pages/84613/</td>\n",
       "      <td>12.12.2020</td>\n",
       "      <td>https://agroru.com/doska/izvest-negashenaya-go...</td>\n",
       "    </tr>\n",
       "    <tr>\n",
       "      <th>1</th>\n",
       "      <td>Подкормка озимых пневмоходами</td>\n",
       "      <td>250.00</td>\n",
       "      <td>за Гектара</td>\n",
       "      <td>Ростовская область,  Миллерово</td>\n",
       "      <td>Темпагро, ООО</td>\n",
       "      <td>https://agroru.com/pages/316562/</td>\n",
       "      <td>12.12.2020</td>\n",
       "      <td>https://agroru.com/doska/podkormka-ozimyh-pnev...</td>\n",
       "    </tr>\n",
       "    <tr>\n",
       "      <th>2</th>\n",
       "      <td>Удобрение акварин газонный 1 кг.</td>\n",
       "      <td>300.00</td>\n",
       "      <td>за Штуку</td>\n",
       "      <td>Москва,  Москва</td>\n",
       "      <td>МосАгроГрупп, ООО</td>\n",
       "      <td>https://agroru.com/pages/135197/</td>\n",
       "      <td>12.12.2020</td>\n",
       "      <td>https://agroru.com/doska/udobrenie-akvarin-gaz...</td>\n",
       "    </tr>\n",
       "    <tr>\n",
       "      <th>3</th>\n",
       "      <td>Удобрение весна - лето 5 кг</td>\n",
       "      <td>370.00</td>\n",
       "      <td>за Штуку</td>\n",
       "      <td>Москва,  Москва</td>\n",
       "      <td>МосАгроГрупп, ООО</td>\n",
       "      <td>https://agroru.com/pages/135197/</td>\n",
       "      <td>12.12.2020</td>\n",
       "      <td>https://agroru.com/doska/udobrenie-amp-quot-ve...</td>\n",
       "    </tr>\n",
       "    <tr>\n",
       "      <th>4</th>\n",
       "      <td>Удобрение экспресс - ремонт 2,5 кг</td>\n",
       "      <td>240.00</td>\n",
       "      <td>за Штуку</td>\n",
       "      <td>Москва,  Москва</td>\n",
       "      <td>МосАгроГрупп, ООО</td>\n",
       "      <td>https://agroru.com/pages/135197/</td>\n",
       "      <td>12.12.2020</td>\n",
       "      <td>https://agroru.com/doska/udobrenie-amp-amp-quo...</td>\n",
       "    </tr>\n",
       "    <tr>\n",
       "      <th>...</th>\n",
       "      <td>...</td>\n",
       "      <td>...</td>\n",
       "      <td>...</td>\n",
       "      <td>...</td>\n",
       "      <td>...</td>\n",
       "      <td>...</td>\n",
       "      <td>...</td>\n",
       "      <td>...</td>\n",
       "    </tr>\n",
       "    <tr>\n",
       "      <th>2823</th>\n",
       "      <td>Супер фосфат (фосфор гранулированный)</td>\n",
       "      <td>17000.00</td>\n",
       "      <td>за Тонну</td>\n",
       "      <td>Самарская область,  Тольятти</td>\n",
       "      <td>ОЛЬГА</td>\n",
       "      <td>https://agroru.com/pages/175640/</td>\n",
       "      <td></td>\n",
       "      <td>https://agroru.com/doska/fosfor-granulirovanny...</td>\n",
       "    </tr>\n",
       "    <tr>\n",
       "      <th>2824</th>\n",
       "      <td>Диаммофоска 10:26:26</td>\n",
       "      <td>26200.00</td>\n",
       "      <td>за Тонну</td>\n",
       "      <td>Самарская область,  Тольятти</td>\n",
       "      <td>ОЛЬГА</td>\n",
       "      <td>https://agroru.com/pages/175640/</td>\n",
       "      <td></td>\n",
       "      <td>https://agroru.com/doska/diammofoska-32892.htm</td>\n",
       "    </tr>\n",
       "    <tr>\n",
       "      <th>2825</th>\n",
       "      <td>нитроаммофоска 16 16 16</td>\n",
       "      <td>22600.00</td>\n",
       "      <td>за Тонну</td>\n",
       "      <td>Самарская область,  Тольятти</td>\n",
       "      <td>ОЛЬГА</td>\n",
       "      <td>https://agroru.com/pages/175640/</td>\n",
       "      <td></td>\n",
       "      <td>https://agroru.com/doska/nitroammofoska-16-16-...</td>\n",
       "    </tr>\n",
       "    <tr>\n",
       "      <th>2826</th>\n",
       "      <td>нитроаммофоска 22:7:12</td>\n",
       "      <td>22420.00</td>\n",
       "      <td>за Тонну</td>\n",
       "      <td>Самарская область,  Тольятти</td>\n",
       "      <td>ОЛЬГА</td>\n",
       "      <td>https://agroru.com/pages/175640/</td>\n",
       "      <td></td>\n",
       "      <td>https://agroru.com/doska/nitroammofoska-22-7-1...</td>\n",
       "    </tr>\n",
       "    <tr>\n",
       "      <th>2827</th>\n",
       "      <td>Карбамид, ГОСТ марка Б, МКР кг.</td>\n",
       "      <td>17800.00</td>\n",
       "      <td>за Тонну</td>\n",
       "      <td>Самарская область,  Тольятти</td>\n",
       "      <td>ОЛЬГА</td>\n",
       "      <td>https://agroru.com/pages/175640/</td>\n",
       "      <td></td>\n",
       "      <td>https://agroru.com/doska/karbamid-gost-marka-b...</td>\n",
       "    </tr>\n",
       "  </tbody>\n",
       "</table>\n",
       "<p>2828 rows × 8 columns</p>\n",
       "</div>"
      ],
      "text/plain": [
       "                                      title     price       izmer  \\\n",
       "0                    Известь негашеная ГОСТ   4800.00    за Тонну   \n",
       "1             Подкормка озимых пневмоходами    250.00  за Гектара   \n",
       "2          Удобрение акварин газонный 1 кг.    300.00    за Штуку   \n",
       "3               Удобрение весна - лето 5 кг    370.00    за Штуку   \n",
       "4        Удобрение экспресс - ремонт 2,5 кг    240.00    за Штуку   \n",
       "...                                     ...       ...         ...   \n",
       "2823  Супер фосфат (фосфор гранулированный)  17000.00    за Тонну   \n",
       "2824                   Диаммофоска 10:26:26  26200.00    за Тонну   \n",
       "2825                нитроаммофоска 16 16 16  22600.00    за Тонну   \n",
       "2826                 нитроаммофоска 22:7:12  22420.00    за Тонну   \n",
       "2827        Карбамид, ГОСТ марка Б, МКР кг.  17800.00    за Тонну   \n",
       "\n",
       "                            location                        seller  \\\n",
       "0            Р-ка Башкортостан,  Уфа   Урал Робертович Гиниятуллин   \n",
       "1     Ростовская область,  Миллерово                 Темпагро, ООО   \n",
       "2                    Москва,  Москва             МосАгроГрупп, ООО   \n",
       "3                    Москва,  Москва             МосАгроГрупп, ООО   \n",
       "4                    Москва,  Москва             МосАгроГрупп, ООО   \n",
       "...                              ...                           ...   \n",
       "2823    Самарская область,  Тольятти                         ОЛЬГА   \n",
       "2824    Самарская область,  Тольятти                         ОЛЬГА   \n",
       "2825    Самарская область,  Тольятти                         ОЛЬГА   \n",
       "2826    Самарская область,  Тольятти                         ОЛЬГА   \n",
       "2827    Самарская область,  Тольятти                         ОЛЬГА   \n",
       "\n",
       "                           seller_link        date  \\\n",
       "0      https://agroru.com/pages/84613/  12.12.2020   \n",
       "1     https://agroru.com/pages/316562/  12.12.2020   \n",
       "2     https://agroru.com/pages/135197/  12.12.2020   \n",
       "3     https://agroru.com/pages/135197/  12.12.2020   \n",
       "4     https://agroru.com/pages/135197/  12.12.2020   \n",
       "...                                ...         ...   \n",
       "2823  https://agroru.com/pages/175640/               \n",
       "2824  https://agroru.com/pages/175640/               \n",
       "2825  https://agroru.com/pages/175640/               \n",
       "2826  https://agroru.com/pages/175640/               \n",
       "2827  https://agroru.com/pages/175640/               \n",
       "\n",
       "                                                   link  \n",
       "0     https://agroru.com/doska/izvest-negashenaya-go...  \n",
       "1     https://agroru.com/doska/podkormka-ozimyh-pnev...  \n",
       "2     https://agroru.com/doska/udobrenie-akvarin-gaz...  \n",
       "3     https://agroru.com/doska/udobrenie-amp-quot-ve...  \n",
       "4     https://agroru.com/doska/udobrenie-amp-amp-quo...  \n",
       "...                                                 ...  \n",
       "2823  https://agroru.com/doska/fosfor-granulirovanny...  \n",
       "2824     https://agroru.com/doska/diammofoska-32892.htm  \n",
       "2825  https://agroru.com/doska/nitroammofoska-16-16-...  \n",
       "2826  https://agroru.com/doska/nitroammofoska-22-7-1...  \n",
       "2827  https://agroru.com/doska/karbamid-gost-marka-b...  \n",
       "\n",
       "[2828 rows x 8 columns]"
      ]
     },
     "execution_count": 113,
     "metadata": {},
     "output_type": "execute_result"
    }
   ],
   "source": [
    "dataset"
   ]
  },
  {
   "cell_type": "code",
   "execution_count": 127,
   "metadata": {
    "ExecuteTime": {
     "end_time": "2020-12-12T19:17:06.016714Z",
     "start_time": "2020-12-12T19:17:05.984768Z"
    },
    "scrolled": true
   },
   "outputs": [],
   "source": [
    "dataset.to_csv('dataset.csv', sep=',', encoding='utf-8')"
   ]
  },
  {
   "cell_type": "code",
   "execution_count": null,
   "metadata": {},
   "outputs": [],
   "source": []
  },
  {
   "cell_type": "code",
   "execution_count": null,
   "metadata": {},
   "outputs": [],
   "source": []
  },
  {
   "cell_type": "code",
   "execution_count": null,
   "metadata": {},
   "outputs": [],
   "source": []
  },
  {
   "cell_type": "code",
   "execution_count": 134,
   "metadata": {
    "ExecuteTime": {
     "end_time": "2020-12-12T23:14:46.520360Z",
     "start_time": "2020-12-12T23:14:46.245133Z"
    }
   },
   "outputs": [],
   "source": [
    "from sqlalchemy import create_engine"
   ]
  },
  {
   "cell_type": "code",
   "execution_count": 135,
   "metadata": {
    "ExecuteTime": {
     "end_time": "2020-12-12T23:15:46.230976Z",
     "start_time": "2020-12-12T23:15:46.205015Z"
    }
   },
   "outputs": [
    {
     "name": "stdout",
     "output_type": "stream",
     "text": [
      "2020-12-13 02:15:46,220 INFO sqlalchemy.engine.base.Engine SELECT CAST('test plain returns' AS VARCHAR(60)) AS anon_1\n",
      "2020-12-13 02:15:46,222 INFO sqlalchemy.engine.base.Engine ()\n",
      "2020-12-13 02:15:46,225 INFO sqlalchemy.engine.base.Engine SELECT CAST('test unicode returns' AS VARCHAR(60)) AS anon_1\n",
      "2020-12-13 02:15:46,226 INFO sqlalchemy.engine.base.Engine ()\n"
     ]
    }
   ],
   "source": [
    "engine = create_engine('sqlite:///save_pandas.db', echo=True)\n",
    "sqlite_connection = engine.connect()"
   ]
  },
  {
   "cell_type": "code",
   "execution_count": 137,
   "metadata": {
    "ExecuteTime": {
     "end_time": "2020-12-12T23:17:19.761179Z",
     "start_time": "2020-12-12T23:17:19.429379Z"
    }
   },
   "outputs": [
    {
     "name": "stdout",
     "output_type": "stream",
     "text": [
      "2020-12-13 02:17:19,441 INFO sqlalchemy.engine.base.Engine PRAGMA main.table_info(\"product\")\n",
      "2020-12-13 02:17:19,442 INFO sqlalchemy.engine.base.Engine ()\n",
      "2020-12-13 02:17:19,443 INFO sqlalchemy.engine.base.Engine PRAGMA temp.table_info(\"product\")\n",
      "2020-12-13 02:17:19,444 INFO sqlalchemy.engine.base.Engine ()\n",
      "2020-12-13 02:17:19,447 INFO sqlalchemy.engine.base.Engine \n",
      "CREATE TABLE product (\n",
      "\t\"index\" BIGINT, \n",
      "\ttitle TEXT, \n",
      "\tprice TEXT, \n",
      "\tizmer TEXT, \n",
      "\tlocation TEXT, \n",
      "\tseller TEXT, \n",
      "\tseller_link TEXT, \n",
      "\tdate TEXT, \n",
      "\tlink TEXT\n",
      ")\n",
      "\n",
      "\n",
      "2020-12-13 02:17:19,447 INFO sqlalchemy.engine.base.Engine ()\n",
      "2020-12-13 02:17:19,452 INFO sqlalchemy.engine.base.Engine COMMIT\n",
      "2020-12-13 02:17:19,452 INFO sqlalchemy.engine.base.Engine CREATE INDEX ix_product_index ON product (\"index\")\n",
      "2020-12-13 02:17:19,453 INFO sqlalchemy.engine.base.Engine ()\n",
      "2020-12-13 02:17:19,457 INFO sqlalchemy.engine.base.Engine COMMIT\n",
      "2020-12-13 02:17:19,470 INFO sqlalchemy.engine.base.Engine BEGIN (implicit)\n",
      "2020-12-13 02:17:19,738 INFO sqlalchemy.engine.base.Engine INSERT INTO product (\"index\", title, price, izmer, location, seller, seller_link, date, link) VALUES (?, ?, ?, ?, ?, ?, ?, ?, ?)\n",
      "2020-12-13 02:17:19,739 INFO sqlalchemy.engine.base.Engine ((0, 'Известь негашеная ГОСТ', '4800.00', 'за Тонну', 'Р-ка Башкортостан,  Уфа', ' Урал Робертович Гиниятуллин', 'https://agroru.com/pages/84613/', '12.12.2020', 'https://agroru.com/doska/izvest-negashenaya-gost-9179-77-39460.htm'), (1, 'Подкормка озимых пневмоходами', '250.00', 'за Гектара', 'Ростовская область,  Миллерово', 'Темпагро, ООО', 'https://agroru.com/pages/316562/', '12.12.2020', 'https://agroru.com/doska/podkormka-ozimyh-pnevmohodami-55039.htm'), (2, 'Удобрение акварин газонный 1 кг.', '300.00', 'за Штуку', 'Москва,  Москва', 'МосАгроГрупп, ООО', 'https://agroru.com/pages/135197/', '12.12.2020', 'https://agroru.com/doska/udobrenie-akvarin-gazonnyj-1-kg-19051.htm'), (3, 'Удобрение весна - лето 5 кг', '370.00', 'за Штуку', 'Москва,  Москва', 'МосАгроГрупп, ООО', 'https://agroru.com/pages/135197/', '12.12.2020', 'https://agroru.com/doska/udobrenie-amp-quot-vesna-leto-amp-quot-5-kg-67437.htm'), (4, 'Удобрение экспресс - ремонт 2,5 кг', '240.00', 'за Штуку', 'Москва,  Москва', 'МосАгроГрупп, ООО', 'https://agroru.com/pages/135197/', '12.12.2020', 'https://agroru.com/doska/udobrenie-amp-amp-quot-ekspress-remont-amp-amp-quot-2-5-kg-73263.htm'), (5, 'Удобрение Старт 5 кг', '360.00', 'за Штуку', 'Москва,  Москва', 'МосАгроГрупп, ООО', 'https://agroru.com/pages/135197/', '12.12.2020', 'https://agroru.com/doska/udobrenie-amp-quot-start-amp-quot-5-kg-34972.htm'), (6, 'Удобрение ому осеннее 5 кг', '430.00', 'за Штуку', 'Москва,  Москва', 'МосАгроГрупп, ООО', 'https://agroru.com/pages/135197/', '12.12.2020', 'https://agroru.com/doska/udobrenie-omu-osennee-5-kg-30541.htm'), (7, 'Удобрение ому газонное 10 кг', '850.00', 'за Штуку', 'Москва,  Москва', 'МосАгроГрупп, ООО', 'https://agroru.com/pages/135197/', '12.12.2020', 'https://agroru.com/doska/udobrenie-omu-gazonnoe-10-kg-26489.htm')  ... displaying 10 of 2828 total bound parameter sets ...  (2826, 'нитроаммофоска 22:7:12', '22420.00', 'за Тонну', 'Самарская область,  Тольятти', ' ОЛЬГА', 'https://agroru.com/pages/175640/', None, 'https://agroru.com/doska/nitroammofoska-22-7-12-82521.htm'), (2827, 'Карбамид, ГОСТ марка Б, МКР кг.', '17800.00', 'за Тонну', 'Самарская область,  Тольятти', ' ОЛЬГА', 'https://agroru.com/pages/175640/', None, 'https://agroru.com/doska/karbamid-gost-marka-b-mkr-800-kg-torg-46943.htm'))\n",
      "2020-12-13 02:17:19,753 INFO sqlalchemy.engine.base.Engine COMMIT\n"
     ]
    }
   ],
   "source": [
    "sqlite_table = \"product\"\n",
    "dataset.to_sql(sqlite_table, sqlite_connection, if_exists='fail')"
   ]
  },
  {
   "cell_type": "code",
   "execution_count": null,
   "metadata": {},
   "outputs": [],
   "source": []
  }
 ],
 "metadata": {
  "kernelspec": {
   "display_name": "Python 3",
   "language": "python",
   "name": "python3"
  },
  "language_info": {
   "codemirror_mode": {
    "name": "ipython",
    "version": 3
   },
   "file_extension": ".py",
   "mimetype": "text/x-python",
   "name": "python",
   "nbconvert_exporter": "python",
   "pygments_lexer": "ipython3",
   "version": "3.8.3"
  }
 },
 "nbformat": 4,
 "nbformat_minor": 4
}

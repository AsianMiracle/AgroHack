{
 "cells": [
  {
   "cell_type": "code",
   "execution_count": 1,
   "metadata": {
    "ExecuteTime": {
     "end_time": "2020-12-13T01:01:25.574186Z",
     "start_time": "2020-12-13T01:01:25.243187Z"
    }
   },
   "outputs": [],
   "source": [
    "import pandas as pd"
   ]
  },
  {
   "cell_type": "code",
   "execution_count": 49,
   "metadata": {
    "ExecuteTime": {
     "end_time": "2020-12-13T08:41:07.029759Z",
     "start_time": "2020-12-13T08:41:07.026765Z"
    }
   },
   "outputs": [],
   "source": [
    "apikey = '5737e060-0f84-4251-902f-0716332388f1'"
   ]
  },
  {
   "cell_type": "code",
   "execution_count": 50,
   "metadata": {
    "ExecuteTime": {
     "end_time": "2020-12-13T08:41:08.143412Z",
     "start_time": "2020-12-13T08:41:08.138424Z"
    }
   },
   "outputs": [],
   "source": [
    "import requests\n",
    "from geopy.distance import geodesic\n",
    "\n",
    "def fetch_coordinates(apikey, place):\n",
    "    base_url = \"https://geocode-maps.yandex.ru/1.x\"\n",
    "    params = {\"geocode\": place, \"apikey\": apikey, \"format\": \"json\"}\n",
    "    response = requests.get(base_url, params=params)\n",
    "    response.raise_for_status()\n",
    "    places_found = response.json()['response']['GeoObjectCollection']['featureMember']\n",
    "    most_relevant = places_found[0]\n",
    "    lon, lat = most_relevant['GeoObject']['Point']['pos'].split(\" \")\n",
    "    return lon, lat"
   ]
  },
  {
   "cell_type": "code",
   "execution_count": null,
   "metadata": {},
   "outputs": [],
   "source": []
  },
  {
   "cell_type": "code",
   "execution_count": 2,
   "metadata": {
    "ExecuteTime": {
     "end_time": "2020-12-13T01:01:25.741577Z",
     "start_time": "2020-12-13T01:01:25.722594Z"
    }
   },
   "outputs": [],
   "source": [
    "dataset = pd.read_csv('dataset.csv', index_col=0)"
   ]
  },
  {
   "cell_type": "code",
   "execution_count": 80,
   "metadata": {
    "ExecuteTime": {
     "end_time": "2020-12-13T09:17:08.131296Z",
     "start_time": "2020-12-13T09:17:07.946627Z"
    }
   },
   "outputs": [],
   "source": [
    "import pymorphy2\n",
    "morph = pymorphy2.MorphAnalyzer()\n",
    "\n",
    "def search(needed, center_city):\n",
    "    frame = pd.DataFrame(columns=dataset.columns.tolist())\n",
    "    center = fetch_coordinates(apikey, center_city)\n",
    "    needed_lst = needed.split(' ')\n",
    "    for word in needed_lst:\n",
    "        p = morph.parse(word)[0]\n",
    "        slovo = p.normal_form\n",
    "        for i in range(0, len(dataset.title.tolist())):\n",
    "            tit = dataset.title[i].split(' ')\n",
    "            st = ''\n",
    "            for t in tit:\n",
    "                k = morph.parse(t)[0]\n",
    "                st += k.normal_form\n",
    "            if slovo in st:\n",
    "                frame = frame.append(dataset.iloc[[i]])\n",
    "    frame.drop_duplicates(keep=False, inplace=True)\n",
    "    frame = frame.reset_index(drop=True)\n",
    "    frame['coord'] = ''\n",
    "    frame['dist'] = ''\n",
    "    frame['rate'] = ''\n",
    "\n",
    "    for i in range(0, len(frame.index)):\n",
    "        frame['coord'][i] = fetch_coordinates(apikey, frame['location'][i])\n",
    "        frame['dist'][i] = geodesic(center, frame['coord'][i], ellipsoid='WGS-84').km\n",
    "        if frame['price'][i] != 'None':\n",
    "            frame['rate'][i] = 4.3 * frame['dist'][i] + float(frame['price'][i])\n",
    "        else:\n",
    "            frame['rate'][i] = 1000000\n",
    "    frame = frame.sort_values('rate')\n",
    "    return frame"
   ]
  },
  {
   "cell_type": "code",
   "execution_count": 83,
   "metadata": {
    "ExecuteTime": {
     "end_time": "2020-12-13T09:33:14.566894Z",
     "start_time": "2020-12-13T09:33:11.066693Z"
    }
   },
   "outputs": [
    {
     "data": {
      "text/html": [
       "<div>\n",
       "<style scoped>\n",
       "    .dataframe tbody tr th:only-of-type {\n",
       "        vertical-align: middle;\n",
       "    }\n",
       "\n",
       "    .dataframe tbody tr th {\n",
       "        vertical-align: top;\n",
       "    }\n",
       "\n",
       "    .dataframe thead th {\n",
       "        text-align: right;\n",
       "    }\n",
       "</style>\n",
       "<table border=\"1\" class=\"dataframe\">\n",
       "  <thead>\n",
       "    <tr style=\"text-align: right;\">\n",
       "      <th></th>\n",
       "      <th>title</th>\n",
       "      <th>price</th>\n",
       "      <th>izmer</th>\n",
       "      <th>location</th>\n",
       "      <th>seller</th>\n",
       "      <th>seller_link</th>\n",
       "      <th>date</th>\n",
       "      <th>link</th>\n",
       "      <th>coord</th>\n",
       "      <th>dist</th>\n",
       "      <th>rate</th>\n",
       "    </tr>\n",
       "  </thead>\n",
       "  <tbody>\n",
       "    <tr>\n",
       "      <th>1</th>\n",
       "      <td>Известь гашеная</td>\n",
       "      <td>16.00</td>\n",
       "      <td>за Килограмм</td>\n",
       "      <td>Рязанская область,  Рязань</td>\n",
       "      <td>Станислав Юрьевич Наумов</td>\n",
       "      <td>https://agroru.com/pages/329536/</td>\n",
       "      <td>12.11.2020</td>\n",
       "      <td>https://agroru.com/doska/izvest-gashenaya-2430...</td>\n",
       "      <td>(39.736375, 54.629216)</td>\n",
       "      <td>254.22</td>\n",
       "      <td>1109.15</td>\n",
       "    </tr>\n",
       "    <tr>\n",
       "      <th>2</th>\n",
       "      <td>Известь негашеная ГОСТ (комовая, дробленая, мо...</td>\n",
       "      <td>2800.00</td>\n",
       "      <td>за Тонну</td>\n",
       "      <td>Р-ка Башкортостан,  Уфа</td>\n",
       "      <td>Урал</td>\n",
       "      <td>https://agroru.com/pages/51020/</td>\n",
       "      <td>14.05.2020</td>\n",
       "      <td>https://agroru.com/doska/izvest-negashenaya-go...</td>\n",
       "      <td>(55.958727, 54.735147)</td>\n",
       "      <td>2039.79</td>\n",
       "      <td>11571.1</td>\n",
       "    </tr>\n",
       "    <tr>\n",
       "      <th>0</th>\n",
       "      <td>Известь негашеная ГОСТ</td>\n",
       "      <td>4800.00</td>\n",
       "      <td>за Тонну</td>\n",
       "      <td>Р-ка Башкортостан,  Уфа</td>\n",
       "      <td>Урал Робертович Гиниятуллин</td>\n",
       "      <td>https://agroru.com/pages/84613/</td>\n",
       "      <td>12.12.2020</td>\n",
       "      <td>https://agroru.com/doska/izvest-negashenaya-go...</td>\n",
       "      <td>(55.958727, 54.735147)</td>\n",
       "      <td>2039.79</td>\n",
       "      <td>13571.1</td>\n",
       "    </tr>\n",
       "    <tr>\n",
       "      <th>5</th>\n",
       "      <td>Известь негашеная комовая, известь гидратная (...</td>\n",
       "      <td>7000.00</td>\n",
       "      <td>за Тонну</td>\n",
       "      <td>Р-ка Татарстан,  Набережные Челны</td>\n",
       "      <td>Евгений</td>\n",
       "      <td>https://agroru.com/pages/188050/</td>\n",
       "      <td>NaN</td>\n",
       "      <td>https://agroru.com/doska/izvest-negashenaya-ko...</td>\n",
       "      <td>(52.407031, 55.741004)</td>\n",
       "      <td>1643.04</td>\n",
       "      <td>14065.1</td>\n",
       "    </tr>\n",
       "    <tr>\n",
       "      <th>3</th>\n",
       "      <td>Известь не гашенная</td>\n",
       "      <td>6300.00</td>\n",
       "      <td>за Тонну</td>\n",
       "      <td>Свердловская область,  Нижний Тагил</td>\n",
       "      <td>Андрей</td>\n",
       "      <td>https://agroru.com/pages/229886/</td>\n",
       "      <td>NaN</td>\n",
       "      <td>https://agroru.com/doska/izvest-ne-gashennaya-...</td>\n",
       "      <td>(59.972211, 57.907605)</td>\n",
       "      <td>2490.1</td>\n",
       "      <td>17007.4</td>\n",
       "    </tr>\n",
       "    <tr>\n",
       "      <th>4</th>\n",
       "      <td>Известь пушонка</td>\n",
       "      <td>None</td>\n",
       "      <td>None</td>\n",
       "      <td>Украина,  Черкассы</td>\n",
       "      <td>Володимир</td>\n",
       "      <td>https://agroru.com/pages/122016/</td>\n",
       "      <td>NaN</td>\n",
       "      <td>https://agroru.com/doska/izvest-pushonka-90383...</td>\n",
       "      <td>(32.059759, 49.444433)</td>\n",
       "      <td>844.42</td>\n",
       "      <td>1000000</td>\n",
       "    </tr>\n",
       "  </tbody>\n",
       "</table>\n",
       "</div>"
      ],
      "text/plain": [
       "                                               title    price         izmer  \\\n",
       "1                                    Известь гашеная    16.00  за Килограмм   \n",
       "2  Известь негашеная ГОСТ (комовая, дробленая, мо...  2800.00      за Тонну   \n",
       "0                             Известь негашеная ГОСТ  4800.00      за Тонну   \n",
       "5  Известь негашеная комовая, известь гидратная (...  7000.00      за Тонну   \n",
       "3                                Известь не гашенная  6300.00      за Тонну   \n",
       "4                                    Известь пушонка     None          None   \n",
       "\n",
       "                              location                        seller  \\\n",
       "1           Рязанская область,  Рязань      Станислав Юрьевич Наумов   \n",
       "2              Р-ка Башкортостан,  Уфа                          Урал   \n",
       "0              Р-ка Башкортостан,  Уфа   Урал Робертович Гиниятуллин   \n",
       "5    Р-ка Татарстан,  Набережные Челны                       Евгений   \n",
       "3  Свердловская область,  Нижний Тагил                        Андрей   \n",
       "4                   Украина,  Черкассы                     Володимир   \n",
       "\n",
       "                        seller_link        date  \\\n",
       "1  https://agroru.com/pages/329536/  12.11.2020   \n",
       "2   https://agroru.com/pages/51020/  14.05.2020   \n",
       "0   https://agroru.com/pages/84613/  12.12.2020   \n",
       "5  https://agroru.com/pages/188050/         NaN   \n",
       "3  https://agroru.com/pages/229886/         NaN   \n",
       "4  https://agroru.com/pages/122016/         NaN   \n",
       "\n",
       "                                                link                   coord  \\\n",
       "1  https://agroru.com/doska/izvest-gashenaya-2430...  (39.736375, 54.629216)   \n",
       "2  https://agroru.com/doska/izvest-negashenaya-go...  (55.958727, 54.735147)   \n",
       "0  https://agroru.com/doska/izvest-negashenaya-go...  (55.958727, 54.735147)   \n",
       "5  https://agroru.com/doska/izvest-negashenaya-ko...  (52.407031, 55.741004)   \n",
       "3  https://agroru.com/doska/izvest-ne-gashennaya-...  (59.972211, 57.907605)   \n",
       "4  https://agroru.com/doska/izvest-pushonka-90383...  (32.059759, 49.444433)   \n",
       "\n",
       "      dist     rate  \n",
       "1   254.22  1109.15  \n",
       "2  2039.79  11571.1  \n",
       "0  2039.79  13571.1  \n",
       "5  1643.04  14065.1  \n",
       "3   2490.1  17007.4  \n",
       "4   844.42  1000000  "
      ]
     },
     "execution_count": 83,
     "metadata": {},
     "output_type": "execute_result"
    }
   ],
   "source": [
    "search('известь', 'Москва')"
   ]
  }
 ],
 "metadata": {
  "kernelspec": {
   "display_name": "Python 3",
   "language": "python",
   "name": "python3"
  },
  "language_info": {
   "codemirror_mode": {
    "name": "ipython",
    "version": 3
   },
   "file_extension": ".py",
   "mimetype": "text/x-python",
   "name": "python",
   "nbconvert_exporter": "python",
   "pygments_lexer": "ipython3",
   "version": "3.8.3"
  }
 },
 "nbformat": 4,
 "nbformat_minor": 4
}
